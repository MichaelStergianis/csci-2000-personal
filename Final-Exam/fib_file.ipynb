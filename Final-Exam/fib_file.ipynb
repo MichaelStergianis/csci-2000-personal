{
 "cells": [
  {
   "cell_type": "code",
   "execution_count": 4,
   "metadata": {
    "collapsed": false
   },
   "outputs": [],
   "source": [
    "def fib(n):\n",
    "    if n == 0:\n",
    "        return 0\n",
    "    elif n== 1:\n",
    "        return 1\n",
    "    else: \n",
    "        return fib(n-1) +  fib(n-2)"
   ]
  },
  {
   "cell_type": "code",
   "execution_count": 45,
   "metadata": {
    "collapsed": false
   },
   "outputs": [],
   "source": [
    "def fib_file(n, fname):\n",
    "    #This function takes two arguments\n",
    "    #    n:     the number of iterations of fibbonacci to go through\n",
    "    #   fname: the file in which to put the output,\n",
    "    #          it automatically has _n.txt appended\n",
    "    assert n>0\n",
    "    fname_f = fname + \"_\" + str(n) + \".txt\"\n",
    "    f = open(fname_f, \"w\")\n",
    "    f.write(\"           n          F_n\\n\")\n",
    "    for i in range(0,n+1):\n",
    "        f.write(\"{0:12d} {1:12d}\\n\".format(i, fib(i)))\n",
    "    f.close()"
   ]
  },
  {
   "cell_type": "code",
   "execution_count": 46,
   "metadata": {
    "collapsed": false
   },
   "outputs": [],
   "source": [
    "fib_file(11, \"test\")"
   ]
  },
  {
   "cell_type": "code",
   "execution_count": null,
   "metadata": {
    "collapsed": true
   },
   "outputs": [],
   "source": []
  }
 ],
 "metadata": {
  "kernelspec": {
   "display_name": "Python 3",
   "language": "python",
   "name": "python3"
  },
  "language_info": {
   "codemirror_mode": {
    "name": "ipython",
    "version": 3
   },
   "file_extension": ".py",
   "mimetype": "text/x-python",
   "name": "python",
   "nbconvert_exporter": "python",
   "pygments_lexer": "ipython3",
   "version": "3.4.3"
  }
 },
 "nbformat": 4,
 "nbformat_minor": 0
}
