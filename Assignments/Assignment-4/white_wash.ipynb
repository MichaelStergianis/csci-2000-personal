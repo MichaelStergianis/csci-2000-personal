{
 "cells": [
  {
   "cell_type": "code",
   "execution_count": 16,
   "metadata": {
    "collapsed": true
   },
   "outputs": [],
   "source": [
    "import copy"
   ]
  },
  {
   "cell_type": "code",
   "execution_count": 18,
   "metadata": {
    "collapsed": false
   },
   "outputs": [
    {
     "name": "stdout",
     "output_type": "stream",
     "text": [
      "[[0.999999999, 0.99, 0.4], [0.14, 0.66, 0.3], [0.33, 0.66, 0.99]]\n",
      "[[0.999999999, 0.99, 0.4], [0.14, 0.66, 0.3], [0.33, 0.66, 0.99]]\n",
      "[[0.9999999995, 0.995, 0.7], [0.5700000000000001, 0.8300000000000001, 0.65], [0.665, 0.8300000000000001, 0.995]]\n"
     ]
    }
   ],
   "source": [
    "def WhiteWash(map):\n",
    "    new_map = copy.deepcopy(map)\n",
    "    for i in new_map:\n",
    "        for j in range( 3 ):\n",
    "            i[j] = ((i[j] + 1) / 2)\n",
    "    return new_map\n",
    "\n",
    "\n",
    "# set up test array\n",
    "test = [[0.999999999, 0.99, 0.4], [.14, .66, .3], [0.33, 0.66, 0.99]]\n",
    "# use test array and make sure it doesn't affect original array unless we want to\n",
    "print(test)\n",
    "test2 = WhiteWash(test)\n",
    "print(test)\n",
    "print(test2)\n"
   ]
  },
  {
   "cell_type": "code",
   "execution_count": null,
   "metadata": {
    "collapsed": true
   },
   "outputs": [],
   "source": []
  }
 ],
 "metadata": {
  "kernelspec": {
   "display_name": "Python 3",
   "language": "python",
   "name": "python3"
  },
  "language_info": {
   "codemirror_mode": {
    "name": "ipython",
    "version": 3
   },
   "file_extension": ".py",
   "mimetype": "text/x-python",
   "name": "python",
   "nbconvert_exporter": "python",
   "pygments_lexer": "ipython3",
   "version": "3.4.3"
  }
 },
 "nbformat": 4,
 "nbformat_minor": 0
}
