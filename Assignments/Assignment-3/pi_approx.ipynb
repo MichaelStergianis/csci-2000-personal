{
 "cells": [
  {
   "cell_type": "code",
   "execution_count": 27,
   "metadata": {
    "collapsed": false
   },
   "outputs": [],
   "source": [
    "def rho_n(n):\n",
    "    result = 0\n",
    "    for i in range(1, n+1):\n",
    "        result += ( ((-1)**(i+1)) / (2 * i - 1) )\n",
    "    return (result * 4)"
   ]
  },
  {
   "cell_type": "code",
   "execution_count": 28,
   "metadata": {
    "collapsed": true
   },
   "outputs": [],
   "source": [
    "def tau_n(n):\n",
    "    result = 0\n",
    "    for i in range(1, n+1):\n",
    "        result += ( 1 / (i*i) )\n",
    "    result *= 6\n",
    "    return (result**(.5))"
   ]
  },
  {
   "cell_type": "code",
   "execution_count": 29,
   "metadata": {
    "collapsed": true
   },
   "outputs": [],
   "source": [
    "def mu_n(n):\n",
    "    result = 0\n",
    "    for i in range(1, n+1):\n",
    "        result += ( 1 / (i**4) )\n",
    "    result *= 90\n",
    "    # \n",
    "    return (result**(1/4))"
   ]
  },
  {
   "cell_type": "code",
   "execution_count": 77,
   "metadata": {
    "collapsed": false
   },
   "outputs": [],
   "source": [
    "def format_print(func, n):\n",
    "    # this line probably requires commenting\n",
    "    # it starts by printing n, the 0th format argument with a pad of 8\n",
    "    # it then prints the 1st argument the name of the function with width of 5\n",
    "    # then it prints the result of the function call,\n",
    "    # using the function func and the parameter n\n",
    "    print(\"When n = {0:8d}, {1:5} = {2:.11f}\".format(n, func.__name__, func(n) ) )"
   ]
  },
  {
   "cell_type": "code",
   "execution_count": 79,
   "metadata": {
    "collapsed": false
   },
   "outputs": [
    {
     "name": "stdout",
     "output_type": "stream",
     "text": [
      "When n =       10, rho_n = 3.04183961893\n",
      "When n =       10, tau_n = 3.04936163598\n",
      "When n =       10, mu_n  = 3.14138462247\n",
      "When n =      100, rho_n = 3.13159290356\n",
      "When n =      100, tau_n = 3.13207653181\n",
      "When n =      100, mu_n  = 3.14159241531\n",
      "When n =     1000, rho_n = 3.14059265384\n",
      "When n =     1000, tau_n = 3.14063805621\n",
      "When n =     1000, mu_n  = 3.14159265335\n",
      "When n =    10000, rho_n = 3.14149265359\n",
      "When n =    10000, tau_n = 3.14149716395\n",
      "When n =    10000, mu_n  = 3.14159265359\n",
      "When n =   100000, rho_n = 3.14158265359\n",
      "When n =   100000, tau_n = 3.14158310433\n",
      "When n =   100000, mu_n  = 3.14159265359\n",
      "When n =  1000000, rho_n = 3.14159165359\n",
      "When n =  1000000, tau_n = 3.14159169866\n",
      "When n =  1000000, mu_n  = 3.14159265359\n"
     ]
    }
   ],
   "source": [
    "for j in [10, 100, 1000, 10000, 100000, 1000000]:\n",
    "    for i in [rho_n, tau_n, mu_n]:\n",
    "            format_print(i, j)"
   ]
  },
  {
   "cell_type": "code",
   "execution_count": null,
   "metadata": {
    "collapsed": true
   },
   "outputs": [],
   "source": []
  }
 ],
 "metadata": {
  "kernelspec": {
   "display_name": "Python 3",
   "language": "python",
   "name": "python3"
  },
  "language_info": {
   "codemirror_mode": {
    "name": "ipython",
    "version": 3
   },
   "file_extension": ".py",
   "mimetype": "text/x-python",
   "name": "python",
   "nbconvert_exporter": "python",
   "pygments_lexer": "ipython3",
   "version": "3.4.3"
  }
 },
 "nbformat": 4,
 "nbformat_minor": 0
}
